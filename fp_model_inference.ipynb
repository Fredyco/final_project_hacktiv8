{
 "cells": [
  {
   "attachments": {},
   "cell_type": "markdown",
   "metadata": {},
   "source": [
    "# Import Libraries"
   ]
  },
  {
   "cell_type": "code",
   "execution_count": 1,
   "metadata": {},
   "outputs": [],
   "source": [
    "import pickle"
   ]
  },
  {
   "attachments": {},
   "cell_type": "markdown",
   "metadata": {},
   "source": [
    "# Import Model"
   ]
  },
  {
   "cell_type": "code",
   "execution_count": 2,
   "metadata": {},
   "outputs": [],
   "source": [
    "# Load the model from disk\n",
    "with open('model_0.pkl', 'rb') as f:\n",
    "    fit_0 = pickle.load(f)\n",
    "\n",
    "with open('model_1.pkl', 'rb') as a:\n",
    "    fit_1 = pickle.load(a)\n",
    "\n",
    "with open('model_2.pkl', 'rb') as b:\n",
    "    fit_2 = pickle.load(b)\n",
    "\n",
    "with open('model_3.pkl', 'rb') as c:\n",
    "    fit_3 = pickle.load(c)\n",
    "\n",
    "with open('model_4.pkl', 'rb') as d:\n",
    "    fit_4 = pickle.load(d)"
   ]
  },
  {
   "attachments": {},
   "cell_type": "markdown",
   "metadata": {},
   "source": [
    "# Inferencing"
   ]
  },
  {
   "cell_type": "code",
   "execution_count": 5,
   "metadata": {},
   "outputs": [],
   "source": [
    "def forecast(n):\n",
    "    force_0 = fit_0.forecast(n)\n",
    "    force_1 = fit_1.forecast(n)\n",
    "    force_2 = fit_2.forecast(n)\n",
    "    force_3 = fit_3.forecast(n)\n",
    "    force_4 = fit_4.forecast(n)\n",
    "    return force_0 + force_1 + force_2 + force_3 + force_4"
   ]
  },
  {
   "cell_type": "code",
   "execution_count": 6,
   "metadata": {},
   "outputs": [
    {
     "data": {
      "text/plain": [
       "2023-01-02    5.104417e+06\n",
       "2023-01-09    4.584619e+06\n",
       "2023-01-16    5.152923e+06\n",
       "2023-01-23    4.914468e+06\n",
       "2023-01-30    4.958044e+06\n",
       "Freq: W-MON, dtype: float64"
      ]
     },
     "execution_count": 6,
     "metadata": {},
     "output_type": "execute_result"
    }
   ],
   "source": [
    "forecast(5)"
   ]
  }
 ],
 "metadata": {
  "kernelspec": {
   "display_name": "base",
   "language": "python",
   "name": "python3"
  },
  "language_info": {
   "codemirror_mode": {
    "name": "ipython",
    "version": 3
   },
   "file_extension": ".py",
   "mimetype": "text/x-python",
   "name": "python",
   "nbconvert_exporter": "python",
   "pygments_lexer": "ipython3",
   "version": "3.9.13"
  },
  "orig_nbformat": 4
 },
 "nbformat": 4,
 "nbformat_minor": 2
}
